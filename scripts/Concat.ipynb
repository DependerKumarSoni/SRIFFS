{
 "cells": [
  {
   "cell_type": "code",
   "execution_count": 1,
   "id": "9d04cc3b",
   "metadata": {},
   "outputs": [],
   "source": [
    "#Importing all necessary library\n",
    "import os\n",
    "import matplotlib.pyplot as plt\n",
    "import cv2\n",
    "import numpy as np\n",
    "import shutil\n",
    "import random\n",
    "from tqdm import tqdm\n",
    "%matplotlib inline"
   ]
  },
  {
   "cell_type": "code",
   "execution_count": 3,
   "id": "7ee30488",
   "metadata": {},
   "outputs": [
    {
     "data": {
      "text/plain": [
       "['Converted_Sketches', 'Original_Images']"
      ]
     },
     "execution_count": 3,
     "metadata": {},
     "output_type": "execute_result"
    }
   ],
   "source": [
    "path = \"E:\\Depender Kumar Soni\\SRIFFS\\SRIFFS\\data\"\n",
    "os.listdir(path)"
   ]
  },
  {
   "cell_type": "code",
   "execution_count": 6,
   "id": "f581c125",
   "metadata": {
    "scrolled": true
   },
   "outputs": [],
   "source": [
    "color = os.listdir(path+\"/Original_Images\")\n",
    "sketch = os.listdir(path+\"/Converted_Sketches\")"
   ]
  },
  {
   "cell_type": "code",
   "execution_count": 7,
   "id": "ec2d2d97",
   "metadata": {},
   "outputs": [
    {
     "name": "stdout",
     "output_type": "stream",
     "text": [
      "446\n"
     ]
    }
   ],
   "source": [
    "for c, s in zip(color,sketch):\n",
    "    img1 = cv2.imread(path+\"/Original_Images/\"+c)\n",
    "    img2 = cv2.imread(path+\"/Converted_Sketches/\"+s)\n",
    "    im_h = cv2.hconcat([img1,img2])\n",
    "    cv2.imwrite(path+\"/concat/\"+c,im_h)\n",
    "print(len(os.listdir(path+\"/concat/\")))"
   ]
  },
  {
   "cell_type": "code",
   "execution_count": null,
   "id": "2c141a15",
   "metadata": {},
   "outputs": [],
   "source": []
  },
  {
   "cell_type": "code",
   "execution_count": null,
   "id": "79c4a597",
   "metadata": {},
   "outputs": [],
   "source": []
  }
 ],
 "metadata": {
  "kernelspec": {
   "display_name": "Python 3 (ipykernel)",
   "language": "python",
   "name": "python3"
  },
  "language_info": {
   "codemirror_mode": {
    "name": "ipython",
    "version": 3
   },
   "file_extension": ".py",
   "mimetype": "text/x-python",
   "name": "python",
   "nbconvert_exporter": "python",
   "pygments_lexer": "ipython3",
   "version": "3.9.8"
  }
 },
 "nbformat": 4,
 "nbformat_minor": 5
}
