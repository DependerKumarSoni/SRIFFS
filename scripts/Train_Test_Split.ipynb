{
 "cells": [
  {
   "cell_type": "code",
   "execution_count": 3,
   "id": "6aff23c7",
   "metadata": {},
   "outputs": [],
   "source": [
    "#Importing all necessary library\n",
    "import os\n",
    "import matplotlib.pyplot as plt\n",
    "import cv2\n",
    "import numpy as np\n",
    "import shutil\n",
    "import random\n",
    "from tqdm import tqdm\n",
    "%matplotlib inline"
   ]
  },
  {
   "cell_type": "code",
   "execution_count": 4,
   "id": "43bedfe3",
   "metadata": {},
   "outputs": [
    {
     "data": {
      "text/plain": [
       "['concat', 'Converted_Sketches', 'Original_Images']"
      ]
     },
     "execution_count": 4,
     "metadata": {},
     "output_type": "execute_result"
    }
   ],
   "source": [
    "path = \"E:\\Depender Kumar Soni\\SRIFFS\\SRIFFS\\data\"\n",
    "os.listdir(path)"
   ]
  },
  {
   "cell_type": "code",
   "execution_count": 8,
   "id": "6ef31eff",
   "metadata": {},
   "outputs": [
    {
     "name": "stdout",
     "output_type": "stream",
     "text": [
      "446\n"
     ]
    }
   ],
   "source": [
    "Image_Names = [img_name for img_name in os.listdir(path+\"/concat\")]\n",
    "print(len(Image_Names))\n",
    "#print(Image_Names)"
   ]
  },
  {
   "cell_type": "code",
   "execution_count": 9,
   "id": "f5f86b15",
   "metadata": {},
   "outputs": [
    {
     "name": "stdout",
     "output_type": "stream",
     "text": [
      "400\n"
     ]
    }
   ],
   "source": [
    "index = random.sample(range(0, len(Image_Names)), 400)\n",
    "sample_train = [Image_Names[i] for i in index]\n",
    "print(len(sample_train))\n",
    "#print(sample_train)"
   ]
  },
  {
   "cell_type": "code",
   "execution_count": 10,
   "id": "950ca52c",
   "metadata": {},
   "outputs": [
    {
     "name": "stdout",
     "output_type": "stream",
     "text": [
      "46\n"
     ]
    }
   ],
   "source": [
    "sample_test = [x for x in Image_Names if not x in sample_train]\n",
    "print(len(sample_test))"
   ]
  },
  {
   "cell_type": "code",
   "execution_count": 11,
   "id": "bd1c8886",
   "metadata": {},
   "outputs": [],
   "source": [
    "def copy_images(img_list, source, destination):\n",
    "    if not os.path.isdir(destination):\n",
    "        os.makedirs(destination)\n",
    "    else:\n",
    "        shutil.rmtree(destination)\n",
    "        os.makedirs(destination)\n",
    "        \n",
    "    for img in img_list:\n",
    "        shutil.copy(source+\"/\"+img, destination)"
   ]
  },
  {
   "cell_type": "code",
   "execution_count": 12,
   "id": "32a012aa",
   "metadata": {},
   "outputs": [
    {
     "name": "stdout",
     "output_type": "stream",
     "text": [
      "E:\\Depender Kumar Soni\\SRIFFS\\SRIFFS\\data\\train\n",
      "E:\\Depender Kumar Soni\\SRIFFS\\SRIFFS\\data\\test\n"
     ]
    }
   ],
   "source": [
    "train_dir = os.path.join(path, \"train\")\n",
    "test_dir = os.path.join(path, \"test\")\n",
    "\n",
    "print(train_dir)\n",
    "print(test_dir)"
   ]
  },
  {
   "cell_type": "code",
   "execution_count": 14,
   "id": "b1bd9241",
   "metadata": {},
   "outputs": [],
   "source": [
    "copy_images(sample_train, os.path.join(path, \"concat\"), train_dir)\n",
    "copy_images(sample_test, os.path.join(path, \"concat\"), test_dir)"
   ]
  },
  {
   "cell_type": "code",
   "execution_count": null,
   "id": "da8bf2cf",
   "metadata": {},
   "outputs": [],
   "source": []
  },
  {
   "cell_type": "code",
   "execution_count": null,
   "id": "80e5f7a5",
   "metadata": {},
   "outputs": [],
   "source": []
  }
 ],
 "metadata": {
  "kernelspec": {
   "display_name": "Python 3 (ipykernel)",
   "language": "python",
   "name": "python3"
  },
  "language_info": {
   "codemirror_mode": {
    "name": "ipython",
    "version": 3
   },
   "file_extension": ".py",
   "mimetype": "text/x-python",
   "name": "python",
   "nbconvert_exporter": "python",
   "pygments_lexer": "ipython3",
   "version": "3.9.8"
  }
 },
 "nbformat": 4,
 "nbformat_minor": 5
}
