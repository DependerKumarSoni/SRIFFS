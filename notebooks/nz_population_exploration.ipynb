{
 "cells": [
  {
   "cell_type": "markdown",
   "metadata": {},
   "source": [
    "# Exploring the visitors and travellers arriving and leaving New Zealand from June 2014 to June 2019\n",
    "\n",
    "Basic packages loading here, nothing outstanding..."
   ]
  },
  {
   "cell_type": "code",
   "execution_count": 2,
   "metadata": {},
   "outputs": [],
   "source": [
    "import pandas as pd\n",
    "import matplotlib.pyplot as plt\n",
    "\n",
    "%matplotlib inline"
   ]
  },
  {
   "cell_type": "markdown",
   "metadata": {},
   "source": [
    "## Loading data\n",
    "Before loading the data into the notebook, you will need to load the data into the environment. To do so, open a terminal, and paste the following commands :\n",
    "\n",
    "    make environment data\n",
    "    \n",
    "The sample data will then be downloaded to the data folder (which is at the root of the notebook environment). You can get the definition of this dataset [here](https://data.boston.gov/dataset/open-space). This dataset shows the visitors and travellers arriving and leaving New Zealand in June 2019."
   ]
  },
  {
   "cell_type": "code",
   "execution_count": 3,
   "metadata": {},
   "outputs": [],
   "source": [
    "nz = pd.read_csv('../data/nz-population.csv')"
   ]
  },
  {
   "cell_type": "markdown",
   "metadata": {},
   "source": [
    "## Visualizing data"
   ]
  },
  {
   "cell_type": "code",
   "execution_count": 4,
   "metadata": {},
   "outputs": [
    {
     "data": {
      "text/html": [
       "<div>\n",
       "<style scoped>\n",
       "    .dataframe tbody tr th:only-of-type {\n",
       "        vertical-align: middle;\n",
       "    }\n",
       "\n",
       "    .dataframe tbody tr th {\n",
       "        vertical-align: top;\n",
       "    }\n",
       "\n",
       "    .dataframe thead th {\n",
       "        text-align: right;\n",
       "    }\n",
       "</style>\n",
       "<table border=\"1\" class=\"dataframe\">\n",
       "  <thead>\n",
       "    <tr style=\"text-align: right;\">\n",
       "      <th></th>\n",
       "      <th>year_month</th>\n",
       "      <th>direction_code</th>\n",
       "      <th>NZ_area</th>\n",
       "      <th>Count</th>\n",
       "      <th>geo_level</th>\n",
       "      <th>period</th>\n",
       "    </tr>\n",
       "  </thead>\n",
       "  <tbody>\n",
       "    <tr>\n",
       "      <th>0</th>\n",
       "      <td>2014-06</td>\n",
       "      <td>A</td>\n",
       "      <td>Area Outside Region</td>\n",
       "      <td>6</td>\n",
       "      <td>Regional council areas</td>\n",
       "      <td>Monthly</td>\n",
       "    </tr>\n",
       "    <tr>\n",
       "      <th>1</th>\n",
       "      <td>2014-07</td>\n",
       "      <td>A</td>\n",
       "      <td>Area Outside Region</td>\n",
       "      <td>15</td>\n",
       "      <td>Regional council areas</td>\n",
       "      <td>Monthly</td>\n",
       "    </tr>\n",
       "    <tr>\n",
       "      <th>2</th>\n",
       "      <td>2014-08</td>\n",
       "      <td>A</td>\n",
       "      <td>Area Outside Region</td>\n",
       "      <td>9</td>\n",
       "      <td>Regional council areas</td>\n",
       "      <td>Monthly</td>\n",
       "    </tr>\n",
       "    <tr>\n",
       "      <th>3</th>\n",
       "      <td>2014-09</td>\n",
       "      <td>A</td>\n",
       "      <td>Area Outside Region</td>\n",
       "      <td>15</td>\n",
       "      <td>Regional council areas</td>\n",
       "      <td>Monthly</td>\n",
       "    </tr>\n",
       "    <tr>\n",
       "      <th>4</th>\n",
       "      <td>2014-10</td>\n",
       "      <td>A</td>\n",
       "      <td>Area Outside Region</td>\n",
       "      <td>3</td>\n",
       "      <td>Regional council areas</td>\n",
       "      <td>Monthly</td>\n",
       "    </tr>\n",
       "  </tbody>\n",
       "</table>\n",
       "</div>"
      ],
      "text/plain": [
       "  year_month direction_code              NZ_area  Count  \\\n",
       "0    2014-06              A  Area Outside Region      6   \n",
       "1    2014-07              A  Area Outside Region     15   \n",
       "2    2014-08              A  Area Outside Region      9   \n",
       "3    2014-09              A  Area Outside Region     15   \n",
       "4    2014-10              A  Area Outside Region      3   \n",
       "\n",
       "                geo_level   period  \n",
       "0  Regional council areas  Monthly  \n",
       "1  Regional council areas  Monthly  \n",
       "2  Regional council areas  Monthly  \n",
       "3  Regional council areas  Monthly  \n",
       "4  Regional council areas  Monthly  "
      ]
     },
     "execution_count": 4,
     "metadata": {},
     "output_type": "execute_result"
    }
   ],
   "source": [
    "nz.head()"
   ]
  },
  {
   "cell_type": "markdown",
   "metadata": {},
   "source": [
    "## Number of lines into the dataset"
   ]
  },
  {
   "cell_type": "code",
   "execution_count": 10,
   "metadata": {},
   "outputs": [
    {
     "data": {
      "text/plain": [
       "11751"
      ]
     },
     "execution_count": 10,
     "metadata": {},
     "output_type": "execute_result"
    }
   ],
   "source": [
    "len(nz)"
   ]
  },
  {
   "cell_type": "markdown",
   "metadata": {},
   "source": [
    "## Split of the areas where the travellers arrived during those 5 years"
   ]
  },
  {
   "cell_type": "code",
   "execution_count": 6,
   "metadata": {},
   "outputs": [
    {
     "data": {
      "text/plain": [
       "Waitakere Ranges Local Board Area    111\n",
       "Rangitikei District                  111\n",
       "Opotiki District                     111\n",
       "Waikato Region                       111\n",
       "Whangarei District                   111\n",
       "                                    ... \n",
       "Waitomo District                     111\n",
       "Waiheke Local Board Area             111\n",
       "Canterbury Region                    111\n",
       "Chatham Islands Territory            104\n",
       "Area Outside Region                  103\n",
       "Name: NZ_area, Length: 106, dtype: int64"
      ]
     },
     "execution_count": 6,
     "metadata": {},
     "output_type": "execute_result"
    }
   ],
   "source": [
    "nz[\"NZ_area\"].value_counts()"
   ]
  },
  {
   "cell_type": "markdown",
   "metadata": {},
   "source": [
    "## Number of travellers that have arrived in New Zealand, during 5 years, by region"
   ]
  },
  {
   "cell_type": "code",
   "execution_count": 7,
   "metadata": {},
   "outputs": [
    {
     "data": {
      "text/html": [
       "<div>\n",
       "<style scoped>\n",
       "    .dataframe tbody tr th:only-of-type {\n",
       "        vertical-align: middle;\n",
       "    }\n",
       "\n",
       "    .dataframe tbody tr th {\n",
       "        vertical-align: top;\n",
       "    }\n",
       "\n",
       "    .dataframe thead th {\n",
       "        text-align: right;\n",
       "    }\n",
       "</style>\n",
       "<table border=\"1\" class=\"dataframe\">\n",
       "  <thead>\n",
       "    <tr style=\"text-align: right;\">\n",
       "      <th></th>\n",
       "      <th>NZ_area</th>\n",
       "      <th>Count</th>\n",
       "    </tr>\n",
       "  </thead>\n",
       "  <tbody>\n",
       "    <tr>\n",
       "      <th>0</th>\n",
       "      <td>Auckland Region</td>\n",
       "      <td>66379206</td>\n",
       "    </tr>\n",
       "    <tr>\n",
       "      <th>1</th>\n",
       "      <td>Auckland</td>\n",
       "      <td>66379203</td>\n",
       "    </tr>\n",
       "    <tr>\n",
       "      <th>2</th>\n",
       "      <td>Canterbury Region</td>\n",
       "      <td>17395197</td>\n",
       "    </tr>\n",
       "    <tr>\n",
       "      <th>3</th>\n",
       "      <td>Wellington Region</td>\n",
       "      <td>16571028</td>\n",
       "    </tr>\n",
       "    <tr>\n",
       "      <th>4</th>\n",
       "      <td>Christchurch City</td>\n",
       "      <td>11694879</td>\n",
       "    </tr>\n",
       "    <tr>\n",
       "      <th>...</th>\n",
       "      <td>...</td>\n",
       "      <td>...</td>\n",
       "    </tr>\n",
       "    <tr>\n",
       "      <th>101</th>\n",
       "      <td>Wairoa District</td>\n",
       "      <td>73131</td>\n",
       "    </tr>\n",
       "    <tr>\n",
       "      <th>102</th>\n",
       "      <td>Kawerau District</td>\n",
       "      <td>70536</td>\n",
       "    </tr>\n",
       "    <tr>\n",
       "      <th>103</th>\n",
       "      <td>Great Barrier Local Board Area</td>\n",
       "      <td>20751</td>\n",
       "    </tr>\n",
       "    <tr>\n",
       "      <th>104</th>\n",
       "      <td>Chatham Islands Territory</td>\n",
       "      <td>3885</td>\n",
       "    </tr>\n",
       "    <tr>\n",
       "      <th>105</th>\n",
       "      <td>Area Outside Region</td>\n",
       "      <td>3867</td>\n",
       "    </tr>\n",
       "  </tbody>\n",
       "</table>\n",
       "<p>106 rows × 2 columns</p>\n",
       "</div>"
      ],
      "text/plain": [
       "                            NZ_area     Count\n",
       "0                   Auckland Region  66379206\n",
       "1                          Auckland  66379203\n",
       "2                 Canterbury Region  17395197\n",
       "3                 Wellington Region  16571028\n",
       "4                 Christchurch City  11694879\n",
       "..                              ...       ...\n",
       "101                 Wairoa District     73131\n",
       "102                Kawerau District     70536\n",
       "103  Great Barrier Local Board Area     20751\n",
       "104       Chatham Islands Territory      3885\n",
       "105             Area Outside Region      3867\n",
       "\n",
       "[106 rows x 2 columns]"
      ]
     },
     "execution_count": 7,
     "metadata": {},
     "output_type": "execute_result"
    }
   ],
   "source": [
    "pd.DataFrame(nz.groupby('NZ_area').agg('sum')['Count'].sort_values(ascending=False)).reset_index()"
   ]
  },
  {
   "cell_type": "markdown",
   "metadata": {},
   "source": [
    "## What are the 15 regions where the travellers arrived the most during 5 years ?"
   ]
  },
  {
   "cell_type": "code",
   "execution_count": 11,
   "metadata": {},
   "outputs": [
    {
     "data": {
      "text/plain": [
       "<matplotlib.axes._subplots.AxesSubplot at 0x7efc09ea6190>"
      ]
     },
     "execution_count": 11,
     "metadata": {},
     "output_type": "execute_result"
    },
    {
     "data": {
      "image/png": "[encoded data removed]",
      "text/plain": [
       "<Figure size 432x288 with 1 Axes>"
      ]
     },
     "metadata": {
      "needs_background": "light"
     },
     "output_type": "display_data"
    }
   ],
   "source": [
    "pd.DataFrame(nz.groupby('NZ_area').agg('sum')['Count'].sort_values(ascending=False))[:15].plot(kind='barh')"
   ]
  },
  {
   "cell_type": "code",
   "execution_count": null,
   "metadata": {},
   "outputs": [],
   "source": []
  }
 ],
 "metadata": {
  "kernelspec": {
   "display_name": "Python 3",
   "language": "python",
   "name": "python3"
  },
  "language_info": {
   "codemirror_mode": {
    "name": "ipython",
    "version": 3
   },
   "file_extension": ".py",
   "mimetype": "text/x-python",
   "name": "python",
   "nbconvert_exporter": "python",
   "pygments_lexer": "ipython3",
   "version": "3.7.6"
  }
 },
 "nbformat": 4,
 "nbformat_minor": 4
}
